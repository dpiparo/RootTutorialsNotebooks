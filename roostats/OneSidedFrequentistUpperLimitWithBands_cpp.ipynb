{
 "cells": [
  {
   "cell_type": "markdown",
   "metadata": {},
   "source": [
    "# One-Sided Frequentist Upper Limit With Bands\n",
    "\n",
    "*Author: Kyle Cranmer.\n",
    "Contributions from Haichen Wang and Daniel Whiteson. \n",
    "Date: Dec. 2010 - Feb. 2011.\n",
    "Translated to notebook by Enric Tejedor and Danilo Piparo, 2015\n",
    "v1. Jan 28*\n",
    "\n",
    "This is a standard demo that can be used with any ROOT file prepared in the standard way. You need to specify:\n",
    "- Name for input ROOT file.\n",
    "- Name of workspace inside ROOT file that holds model and data.\n",
    "- Name of ModelConfig that specifies details for calculator tools.\n",
    "- Name of dataset.\n",
    "\n",
    "With default parameters the macro will attempt to run the standard hist2workspace example and read the ROOT file that it produces.\n",
    "\n",
    "The first ~100 lines define a new test statistic, then the main code starts. You may want to control:\n",
    "- `double confidenceLevel = 0.95;`\n",
    "- `int nPointsToScan = 30;`\n",
    "- `int nToyMC = 200;`\n",
    "\n",
    "This uses a modified version of the profile likelihood ratio as a test statistic for upper limits (eg. test stat = 0 if muhat>mu).\n",
    "\n",
    "Based on the observed data, one defines a set of parameter points to be tested based on the value of the parameter of interest and the conditional MLE (eg. profiled) values of the nuisance parameters.\n",
    "\n",
    "At each parameter point, pseudo-experiments are generated using this fixed reference model and then the test statistic is evaluated. Note, the nuisance parameters are floating in the fits. For each point, the threshold that defines the 95% acceptance region is found. This forms a \"Confidence Belt\".\n",
    "\n",
    "After constructing the confidence belt, one can find the confidence interval for any particular dataset by finding the intersection of the observed test statistic and the confidence belt. First this is done on the observed data to get an observed 1-sided upper limit.\n",
    "\n",
    "Finally, the expected limit and bands (from background-only) are formed by generating background-only data and finding the upper limit. This is done by hand for now, it will later be part of the RooStats tools.\n",
    "\n",
    "On a technical note, this technique is NOT the Feldman-Cousins technique, because that is a 2-sided interval BY DEFINITION. However, like the Feldman-Cousins technique this is a Neyman-Construction. For technical reasons the easiest way to implement this right now is to use the FeldmanCousins tool and then change the test statistic that it is using.\n",
    "\n",
    "Building the confidence belt can be computationally expensive. Once it is built, one could save it to a file and use it in a separate step.\n",
    "\n",
    "We can use PROOF to speed things along in parallel; however, the test statistic has to be installed on the workers so either turn off PROOF or include the modified test statistic in your `$ROOTSYS/roofit/roostats/inc` directory,\n",
    "add the additional line to the `LinkDef.h` file, and recompile ROOT.\n",
    "\n",
    "Note, if you have a boundary on the parameter of interest (e.g. cross-section) the threshold on the one-sided test statistic starts off very small because we are only including downward fluctuations.  You can see the threshold in these printouts:\n",
    "\n",
    "`[#0] PROGRESS:Generation -- generated toys: 500 / 999\n",
    "NeymanConstruction: Prog: 12/50 total MC = 39 this test stat = 0\n",
    " SigXsecOverSM=0.69 alpha_syst1=0.136515 alpha_syst3=0.425415 beta_syst2=1.08496 [-1e+30, 0.011215]in interval = 1`\n",
    "\n",
    "This tells you the values of the parameters geing used to generate the pseudo-experiments and the threshold in this case is 0.011215.  One would expect for 95% that the threshold would be ~1.35 once the cross-section is far enough away from 0 that it is essentially unaffected by the boundary. As one reaches the last points in the scan, the threshold starts to get artificially high. This is because the range of the parameter in the fit is the same as the range in the scan.  In the future, these should be independently controlled, but they are not now. As a result, ~50% of pseudo-experiments that have an upward fluctuation end up with muhat = muMax.  Because of this, the upper range of the parameter should be well above the expected upper limit, but not too high or one will need a very large value of `nPointsToScan` to resolve the relevant region. This can be improved, but this is the first version of this script.\n",
    "\n",
    "**Important note**: when the model includes external constraint terms, like a Gaussian constraint to a nuisance parameter centered around some nominal value there is a subtlety. The asymptotic results are all based on the assumption that all the measurements fluctuate, including the nominal values from auxiliary measurements. If these do not fluctuate, this corresponds to an \"conditional ensemble\". The result is that the distribution of the test statistic can become very non-chi^2. This results in thresholds that become very large. This can be seen in the following thought experiment. Say the model is:\n",
    "\n",
    "$$Pois(N | s + b) * G(b0|b,sigma)$$\n",
    "\n",
    "where $G(b0|b,sigma)$ is the external constraint and `b0` is 100. If `N` is also 100 then the profiled value of `b` given `s` is going to be some trade off betwen 100-`s` and `b0`. If `sigma` is `sqrt(N)`, then the profiled value of `b` is probably 100 - `s`/2.  So for `s`=60 we are going to have a profiled value of `b`~70. Now when we generate pseudo-experiments for `s`=60, `b`=70 we will have `N`~130 and the average shat will be 30, not 60. In practice, this is only an issue for values of `s` that are very excluded. For values of `s` near the 95% limit this should not be a big effect. This can be avoided if the nominal values of the constraints also fluctuate, but that requires that those parameters are RooRealVars in the model. This version does not deal with this issue, but it will be addressed in a future version.\n",
    "\n",
    "---"
   ]
  },
  {
   "cell_type": "code",
   "execution_count": 1,
   "metadata": {
    "collapsed": false
   },
   "outputs": [
    {
     "name": "stdout",
     "output_type": "stream",
     "text": [
      "\n",
      "\u001b[1mRooFit v3.60 -- Developed by Wouter Verkerke and David Kirkby\u001b[0m \n",
      "                Copyright (C) 2000-2013 NIKHEF, University of California & Stanford University\n",
      "                All rights reserved, please read http://roofit.sourceforge.net/license.txt\n",
      "\n"
     ]
    }
   ],
   "source": [
    "#include \"RooWorkspace.h\"\n",
    "#include \"RooSimultaneous.h\"\n",
    "#include \"RooAbsData.h\"\n",
    "\n",
    "#include \"RooStats/ModelConfig.h\"\n",
    "#include \"RooStats/FeldmanCousins.h\"\n",
    "#include \"RooStats/ToyMCSampler.h\"\n",
    "#include \"RooStats/PointSetInterval.h\"\n",
    "#include \"RooStats/ConfidenceBelt.h\"\n",
    "\n",
    "#include \"RooStats/RooStatsUtils.h\"\n",
    "#include \"RooStats/ProfileLikelihoodTestStat.h\"\n",
    "\n",
    "using namespace RooFit;\n",
    "using namespace RooStats;"
   ]
  },
  {
   "cell_type": "code",
   "execution_count": 2,
   "metadata": {
    "collapsed": false
   },
   "outputs": [],
   "source": [
    "auto confidenceLevel = 0.68;\n",
    "auto nPointsToScan = 20;\n",
    "auto nToyMC = 80; // This number is kept low to have a quick calculation"
   ]
  },
  {
   "cell_type": "code",
   "execution_count": 3,
   "metadata": {
    "collapsed": false
   },
   "outputs": [],
   "source": [
    "auto filename = \"results/example_combined_GaussExample_model.root\";\n",
    "auto workspaceName = \"combined\";\n",
    "auto modelConfigName = \"ModelConfig\";\n",
    "auto dataName = \"obsData\";"
   ]
  },
  {
   "cell_type": "markdown",
   "metadata": {},
   "source": [
    "Create an example file.\n",
    "The `prepareHistFactory` and `hist2workspace` scripts are in `$ROOTSYS/bin`, which is in `$PATH`."
   ]
  },
  {
   "cell_type": "code",
   "execution_count": 4,
   "metadata": {
    "collapsed": false
   },
   "outputs": [],
   "source": [
    ".! prepareHistFactory . >& prepareHistFactory.log"
   ]
  },
  {
   "cell_type": "code",
   "execution_count": 5,
   "metadata": {
    "collapsed": false
   },
   "outputs": [],
   "source": [
    ".! hist2workspace config/example.xml >& hist2Workspace.log"
   ]
  },
  {
   "cell_type": "markdown",
   "metadata": {},
   "source": [
    "Open the example file."
   ]
  },
  {
   "cell_type": "code",
   "execution_count": 6,
   "metadata": {
    "collapsed": false
   },
   "outputs": [],
   "source": [
    "auto file = TFile::Open(filename);"
   ]
  },
  {
   "cell_type": "markdown",
   "metadata": {},
   "source": [
    "Get the workspace from the file."
   ]
  },
  {
   "cell_type": "code",
   "execution_count": 7,
   "metadata": {
    "collapsed": false
   },
   "outputs": [],
   "source": [
    "auto w = (RooWorkspace*) file->Get(workspaceName);\n",
    "if (!w) {\n",
    "    cout << \"Workspace not found\" << endl;\n",
    "}"
   ]
  },
  {
   "cell_type": "markdown",
   "metadata": {},
   "source": [
    "Get the model configuration from the file."
   ]
  },
  {
   "cell_type": "code",
   "execution_count": 8,
   "metadata": {
    "collapsed": false
   },
   "outputs": [],
   "source": [
    "auto mc = (ModelConfig*) w->obj(modelConfigName);\n",
    "if (!mc) {\n",
    "    w->Print();\n",
    "    cout << \"ModelConfig was not found\" << endl;\n",
    "}"
   ]
  },
  {
   "cell_type": "markdown",
   "metadata": {},
   "source": [
    "Get the data from the file."
   ]
  },
  {
   "cell_type": "code",
   "execution_count": 9,
   "metadata": {
    "collapsed": true
   },
   "outputs": [],
   "source": [
    "auto data = w->data(dataName);\n",
    "if (!data) {\n",
    "    w->Print();\n",
    "    cout << \"Data was not found\" << endl;\n",
    "}"
   ]
  },
  {
   "cell_type": "markdown",
   "metadata": {},
   "source": [
    "Get the POI. You may want to adjust the range of your POI."
   ]
  },
  {
   "cell_type": "code",
   "execution_count": 10,
   "metadata": {
    "collapsed": true
   },
   "outputs": [],
   "source": [
    "auto firstPOI = (RooRealVar*) mc->GetParametersOfInterest()->first();"
   ]
  },
  {
   "cell_type": "markdown",
   "metadata": {},
   "source": [
    "Create and use the FeldmanCousins tool to find and plot the 95% confidence interval on the parameter of interest as specified in the model config.\n",
    "\n",
    "REMEMBER, we will change the test statistic so this is NOT a Feldman-Cousins interval."
   ]
  },
  {
   "cell_type": "code",
   "execution_count": 11,
   "metadata": {
    "collapsed": true
   },
   "outputs": [],
   "source": [
    "FeldmanCousins fc(*data,*mc);\n",
    "fc.SetConfidenceLevel(confidenceLevel);\n",
    "fc.SetNBins(nPointsToScan); // set how many points per parameter of interest to scan\n",
    "fc.CreateConfBelt(true);    // save the information in the belt for plotting"
   ]
  },
  {
   "cell_type": "markdown",
   "metadata": {},
   "source": [
    "Feldman-Cousins is a unified limit by definition but the tool takes care of a few things for us like which values of the nuisance parameters should be used to generate toys. So let's just change the test statistic and realize this is no longer \"Feldman-Cousins\" but is a fully frequentist Neyman-Construction."
   ]
  },
  {
   "cell_type": "code",
   "execution_count": 12,
   "metadata": {
    "collapsed": false
   },
   "outputs": [
    {
     "name": "stdout",
     "output_type": "stream",
     "text": [
      "FeldmanCousins: ntoys per point = 156\n",
      "FeldmanCousins: nEvents per toy will fluctuate about  expectation\n"
     ]
    }
   ],
   "source": [
    "auto toymcsampler = (ToyMCSampler*) fc.GetTestStatSampler();\n",
    "ProfileLikelihoodTestStat* testStat = dynamic_cast<ProfileLikelihoodTestStat*>(toymcsampler->GetTestStatistic());\n",
    "testStat->SetOneSided(true);"
   ]
  },
  {
   "cell_type": "markdown",
   "metadata": {},
   "source": [
    "Since this tool needs to throw toy MC the PDF needs to be extended or the tool needs to know how many entries in a dataset per pseudo experiment. In the 'number counting form' where the entries in the dataset are counts, and not values of discriminating variables, the datasets typically only have one entry and the PDF is not extended."
   ]
  },
  {
   "cell_type": "code",
   "execution_count": 13,
   "metadata": {
    "collapsed": true
   },
   "outputs": [],
   "source": [
    "if (!mc->GetPdf()->canBeExtended()) {\n",
    "    if (data->numEntries() == 1)\n",
    "        fc.FluctuateNumDataEntries(false);\n",
    "    else\n",
    "        cout << \"Not sure what to do about this model\" << endl;\n",
    "}"
   ]
  },
  {
   "cell_type": "code",
   "execution_count": 14,
   "metadata": {
    "collapsed": false
   },
   "outputs": [
    {
     "name": "stdout",
     "output_type": "stream",
     "text": [
      "will use global observables for unconditional ensemble\n",
      "RooArgSet:: = (nom_alpha_syst2,nom_alpha_syst3,nom_gamma_stat_channel1_bin_0,nom_gamma_stat_channel1_bin_1)\n"
     ]
    }
   ],
   "source": [
    "if (mc->GetGlobalObservables()) {\n",
    "    cout << \"will use global observables for unconditional ensemble\" << endl;\n",
    "    mc->GetGlobalObservables()->Print();\n",
    "    toymcsampler->SetGlobalObservables(*mc->GetGlobalObservables());\n",
    "}"
   ]
  },
  {
   "cell_type": "markdown",
   "metadata": {},
   "source": [
    "Now get the interval. This is the most computationally-intensive part."
   ]
  },
  {
   "cell_type": "code",
   "execution_count": 15,
   "metadata": {
    "collapsed": false
   },
   "outputs": [
    {
     "name": "stdout",
     "output_type": "stream",
     "text": [
      "\n",
      "=== Using the following for ModelConfig ===\n",
      "Observables:             RooArgSet:: = (obs_x_channel1,weightVar,channelCat)\n",
      "Parameters of Interest:  RooArgSet:: = (SigXsecOverSM)\n",
      "Nuisance Parameters:     RooArgSet:: = (alpha_syst2,alpha_syst3,gamma_stat_channel1_bin_0,gamma_stat_channel1_bin_1)\n",
      "Global Observables:      RooArgSet:: = (nom_alpha_syst2,nom_alpha_syst3,nom_gamma_stat_channel1_bin_0,nom_gamma_stat_channel1_bin_1)\n",
      "PDF:                     RooSimultaneous::simPdf[ indexCat=channelCat channel1=model_channel1 ] = 0.174888\n",
      "\n",
      "FeldmanCousins: Model has nuisance parameters, will do profile construction\n",
      "FeldmanCousins: # points to test = 20\n",
      "lookup index = 0\n",
      "NeymanConstruction: Prog: 1/20 total MC = 156 this test stat = 0\n",
      " SigXsecOverSM=0.075 alpha_syst2=0.656048 alpha_syst3=0.244567 gamma_stat_channel1_bin_0=1.03397 gamma_stat_channel1_bin_1=1.04971 [-1e+30, 0.0463518]  in interval = 1\n",
      "\n",
      "NeymanConstruction: Prog: 2/20 total MC = 156 this test stat = 0\n",
      " SigXsecOverSM=0.225 alpha_syst2=0.549579 alpha_syst3=0.211046 gamma_stat_channel1_bin_0=1.02849 gamma_stat_channel1_bin_1=1.04283 [-1e+30, 0.13158]  in interval = 1\n",
      "\n",
      "NeymanConstruction: Prog: 3/20 total MC = 156 this test stat = 0\n",
      " SigXsecOverSM=0.375 alpha_syst2=0.44775 alpha_syst3=0.177828 gamma_stat_channel1_bin_0=1.02318 gamma_stat_channel1_bin_1=1.03602 [-1e+30, 0.0977365]  in interval = 1\n",
      "\n",
      "NeymanConstruction: Prog: 4/20 total MC = 156 this test stat = 0\n",
      " SigXsecOverSM=0.525 alpha_syst2=0.349863 alpha_syst3=0.144895 gamma_stat_channel1_bin_0=1.01804 gamma_stat_channel1_bin_1=1.02929 [-1e+30, 0.142544]  in interval = 1\n",
      "\n",
      "NeymanConstruction: Prog: 5/20 total MC = 156 this test stat = 0\n",
      " SigXsecOverSM=0.675 alpha_syst2=0.255203 alpha_syst3=0.11224 gamma_stat_channel1_bin_0=1.01307 gamma_stat_channel1_bin_1=1.02264 [-1e+30, 0.0777437]  in interval = 1\n",
      "\n",
      "NeymanConstruction: Prog: 6/20 total MC = 156 this test stat = 0\n",
      " SigXsecOverSM=0.825 alpha_syst2=0.16608 alpha_syst3=0.0821439 gamma_stat_channel1_bin_0=1.00838 gamma_stat_channel1_bin_1=1.01547 [-1e+30, 0.150288]  in interval = 1\n",
      "\n",
      "NeymanConstruction: Prog: 7/20 total MC = 156 this test stat = 0\n",
      " SigXsecOverSM=0.975 alpha_syst2=0.0745784 alpha_syst3=0.0487673 gamma_stat_channel1_bin_0=1.00375 gamma_stat_channel1_bin_1=1.00931 [-1e+30, 0.149857]  in interval = 1\n",
      "\n",
      "NeymanConstruction: Prog: 8/20 total MC = 156 this test stat = 0.000125096\n",
      " SigXsecOverSM=1.125 alpha_syst2=-0.0140996 alpha_syst3=0.0151511 gamma_stat_channel1_bin_0=0.999297 gamma_stat_channel1_bin_1=1.00317 [-1e+30, 0.263941]  in interval = 1\n",
      "\n",
      "NeymanConstruction: Prog: 9/20 total MC = 156 this test stat = 0.0347209\n",
      " SigXsecOverSM=1.275 alpha_syst2=-0.101327 alpha_syst3=-0.0176472 gamma_stat_channel1_bin_0=0.994967 gamma_stat_channel1_bin_1=0.99714 [-1e+30, 0.154095]  in interval = 1\n",
      "\n",
      "NeymanConstruction: Prog: 10/20 total MC = 156 this test stat = 0.12986\n",
      " SigXsecOverSM=1.425 alpha_syst2=-0.185801 alpha_syst3=-0.0506339 gamma_stat_channel1_bin_0=0.990814 gamma_stat_channel1_bin_1=0.991141 [-1e+30, 0.0907238]  in interval = 0\n",
      "\n",
      "NeymanConstruction: Prog: 11/20 total MC = 156 this test stat = 0.284381\n",
      " SigXsecOverSM=1.575 alpha_syst2=-0.266353 alpha_syst3=-0.0784096 gamma_stat_channel1_bin_0=0.987025 gamma_stat_channel1_bin_1=0.984445 [-1e+30, 0.168127]  in interval = 0\n",
      "\n",
      "NeymanConstruction: Prog: 12/20 total MC = 156 this test stat = 0.497424\n",
      " SigXsecOverSM=1.725 alpha_syst2=-0.3458 alpha_syst3=-0.10947 gamma_stat_channel1_bin_0=0.983247 gamma_stat_channel1_bin_1=0.978371 [-1e+30, 0.240149]  in interval = 0\n",
      "\n",
      "NeymanConstruction: Prog: 13/20 total MC = 156 this test stat = 0.767852\n",
      " SigXsecOverSM=1.875 alpha_syst2=-0.422672 alpha_syst3=-0.140541 gamma_stat_channel1_bin_0=0.979595 gamma_stat_channel1_bin_1=0.972417 [-1e+30, 0.0713013]  in interval = 0\n",
      "\n",
      "NeymanConstruction: Prog: 14/20 total MC = 156 this test stat = 1.09468\n",
      " SigXsecOverSM=2.025 alpha_syst2=-0.496602 alpha_syst3=-0.171004 gamma_stat_channel1_bin_0=0.976094 gamma_stat_channel1_bin_1=0.966484 [-1e+30, 0.161638]  in interval = 0\n",
      "\n",
      "NeymanConstruction: Prog: 15/20 total MC = 156 this test stat = 1.47704\n",
      " SigXsecOverSM=2.175 alpha_syst2=-0.567566 alpha_syst3=-0.201186 gamma_stat_channel1_bin_0=0.972718 gamma_stat_channel1_bin_1=0.960626 [-1e+30, 0.178061]  in interval = 0\n",
      "\n",
      "NeymanConstruction: Prog: 16/20 total MC = 156 this test stat = 1.91389\n",
      " SigXsecOverSM=2.325 alpha_syst2=-0.63553 alpha_syst3=-0.231072 gamma_stat_channel1_bin_0=0.96946 gamma_stat_channel1_bin_1=0.954845 [-1e+30, 0.0555634]  in interval = 0\n",
      "\n",
      "NeymanConstruction: Prog: 17/20 total MC = 156 this test stat = 2.40432\n",
      " SigXsecOverSM=2.475 alpha_syst2=-0.700748 alpha_syst3=-0.261131 gamma_stat_channel1_bin_0=0.966278 gamma_stat_channel1_bin_1=0.949239 [-1e+30, 0.155217]  in interval = 0\n",
      "\n",
      "NeymanConstruction: Prog: 18/20 total MC = 156 this test stat = 2.94737\n",
      " SigXsecOverSM=2.625 alpha_syst2=-0.763083 alpha_syst3=-0.290538 gamma_stat_channel1_bin_0=0.963225 gamma_stat_channel1_bin_1=0.943654 [-1e+30, 0.109298]  in interval = 0\n",
      "\n",
      "NeymanConstruction: Prog: 19/20 total MC = 156 this test stat = 3.54209\n",
      " SigXsecOverSM=2.775 alpha_syst2=-0.822865 alpha_syst3=-0.319576 gamma_stat_channel1_bin_0=0.960275 gamma_stat_channel1_bin_1=0.938148 [-1e+30, 0.113052]  in interval = 0\n",
      "\n",
      "NeymanConstruction: Prog: 20/20 total MC = 156 this test stat = 4.18752\n",
      " SigXsecOverSM=2.925 alpha_syst2=-0.880381 alpha_syst3=-0.348221 gamma_stat_channel1_bin_0=0.957426 gamma_stat_channel1_bin_1=0.932721 [-1e+30, 0.239163]  in interval = 0\n",
      "\n",
      "[#1] INFO:Eval -- 9 points in interval\n"
     ]
    }
   ],
   "source": [
    "PointSetInterval* interval = fc.GetInterval();\n",
    "ConfidenceBelt* belt = fc.GetConfidenceBelt();"
   ]
  },
  {
   "cell_type": "markdown",
   "metadata": {},
   "source": [
    "Print out the interval on the first Parameter of Interest."
   ]
  },
  {
   "cell_type": "code",
   "execution_count": 16,
   "metadata": {
    "collapsed": false
   },
   "outputs": [
    {
     "name": "stdout",
     "output_type": "stream",
     "text": [
      "\n",
      " 68% interval on SigXsecOverSM is : [0.075, 1.275] \n"
     ]
    }
   ],
   "source": [
    "cout << \"\\n \" << confidenceLevel*100 <<  \"% interval on \" << firstPOI->GetName() << \" is : [\"\n",
    "     << interval->LowerLimit(*firstPOI) << \", \"\n",
    "     << interval->UpperLimit(*firstPOI) << \"] \"\n",
    "     << endl;"
   ]
  },
  {
   "cell_type": "markdown",
   "metadata": {},
   "source": [
    "Get observed UL and value of test statistic evaluated there."
   ]
  },
  {
   "cell_type": "code",
   "execution_count": 17,
   "metadata": {
    "collapsed": true
   },
   "outputs": [],
   "source": [
    "RooArgSet tmpPOI(*firstPOI);\n",
    "double observedUL = interval->UpperLimit(*firstPOI);\n",
    "firstPOI->setVal(observedUL);\n",
    "double obsTSatObsUL = fc.GetTestStatSampler()->EvaluateTestStatistic(*data,tmpPOI);"
   ]
  },
  {
   "cell_type": "markdown",
   "metadata": {},
   "source": [
    "Ask the calculator which points were scanned."
   ]
  },
  {
   "cell_type": "code",
   "execution_count": 18,
   "metadata": {
    "collapsed": true
   },
   "outputs": [],
   "source": [
    "auto parameterScan = (RooDataSet*) fc.GetPointsToScan();\n",
    "RooArgSet* tmpPoint;"
   ]
  },
  {
   "cell_type": "markdown",
   "metadata": {},
   "source": [
    "Make a histogram of parameter vs. threshold."
   ]
  },
  {
   "cell_type": "code",
   "execution_count": 19,
   "metadata": {
    "collapsed": true
   },
   "outputs": [],
   "source": [
    "TH1F histOfThresholds(\"histOfThresholds\",\"\",\n",
    "                      parameterScan->numEntries(),\n",
    "                      firstPOI->getMin(),\n",
    "                      firstPOI->getMax());\n",
    "histOfThresholds.GetXaxis()->SetTitle(firstPOI->GetName());\n",
    "histOfThresholds.GetYaxis()->SetTitle(\"Threshold\");"
   ]
  },
  {
   "cell_type": "markdown",
   "metadata": {},
   "source": [
    "Loop through the points that were tested and ask confidence belt what the upper/lower thresholds were. For FeldmanCousins, the lower cut off is always 0."
   ]
  },
  {
   "cell_type": "code",
   "execution_count": 20,
   "metadata": {
    "collapsed": false
   },
   "outputs": [],
   "source": [
    "for (Int_t i=0; i<parameterScan->numEntries(); ++i) {\n",
    "    tmpPoint = (RooArgSet*) parameterScan->get(i)->clone(\"temp\");\n",
    "    double arMax = belt->GetAcceptanceRegionMax(*tmpPoint);\n",
    "    double poiVal = tmpPoint->getRealValue(firstPOI->GetName());\n",
    "    histOfThresholds.Fill(poiVal,arMax);\n",
    "}\n",
    "TCanvas c1(\"Results\",\"Results\",1000,800);\n",
    "c1.Divide(2);\n",
    "c1.cd(1);\n",
    "histOfThresholds.SetMinimum(0);\n",
    "histOfThresholds.Draw();\n",
    "c1.cd(2);"
   ]
  },
  {
   "cell_type": "markdown",
   "metadata": {},
   "source": [
    "Now we generate the expected bands and power-constraint.\n",
    "\n",
    "First: find parameter point for mu=0, with conditional MLEs for nuisance parameters."
   ]
  },
  {
   "cell_type": "code",
   "execution_count": 21,
   "metadata": {
    "collapsed": false
   },
   "outputs": [
    {
     "name": "stdout",
     "output_type": "stream",
     "text": [
      "[#1] INFO:Minization -- p.d.f. provides expected number of events, including extended term in likelihood.\n",
      "[#1] INFO:Minization --  Including the following contraint terms in minimization: (lumiConstraint,alpha_syst1Constraint,alpha_syst2Constraint,alpha_syst3Constraint,gamma_stat_channel1_bin_0_constraint,gamma_stat_channel1_bin_1_constraint)\n",
      "[#1] INFO:Minization -- RooProfileLL::evaluate(nll_simPdf_obsData_with_constr_Profile[SigXsecOverSM]) Creating instance of MINUIT\n",
      "[#1] INFO:Fitting -- RooAddition::defaultErrorLevel(nll_simPdf_obsData_with_constr) Summation contains a RooNLLVar, using its error level\n",
      "[#1] INFO:Minization -- RooProfileLL::evaluate(nll_simPdf_obsData_with_constr_Profile[SigXsecOverSM]) determining minimum likelihood for current configurations w.r.t all observable\n",
      "RooAbsTestStatistic::initSimMode: creating slave calculator #0 for state channel1 (2 dataset entries)\n",
      "[#1] INFO:Fitting -- RooAbsTestStatistic::initSimMode: created 1 slave calculators.\n",
      "[#1] INFO:Minization -- RooProfileLL::evaluate(nll_simPdf_obsData_with_constr_Profile[SigXsecOverSM]) minimum found at (SigXsecOverSM=1.11575)\n",
      ".\n",
      "Will use these parameter points to generate pseudo data for bkg only\n",
      "  1) 0x7fd777d8ae20 RooRealVar::               alpha_syst2 = 0.71117 +/- 0.914105  L(-5 - 5)  \"alpha_syst2\"\n",
      "  2) 0x7fd777d97260 RooRealVar::               alpha_syst3 = 0.261459 +/- 0.929099  L(-5 - 5)  \"alpha_syst3\"\n",
      "  3) 0x7fd777d82db0 RooRealVar:: gamma_stat_channel1_bin_0 = 1.03677 +/- 0.0462899  L(0 - 1.25)  \"gamma_stat_channel1_bin_0\"\n",
      "  4) 0x7fd777d83160 RooRealVar:: gamma_stat_channel1_bin_1 = 1.05319 +/- 0.0761204  L(0 - 1.5)  \"gamma_stat_channel1_bin_1\"\n",
      "  5) 0x7fd777d83510 RooRealVar::             SigXsecOverSM = 0 +/- 0  L(0 - 3) B(20)  \"SigXsecOverSM\"\n"
     ]
    }
   ],
   "source": [
    "auto nll = mc->GetPdf()->createNLL(*data);\n",
    "auto profile = nll->createProfile(*mc->GetParametersOfInterest());\n",
    "firstPOI->setVal(0.);\n",
    "profile->getVal(); // this will do fit and set nuisance parameters to profiled values\n",
    "auto poiAndNuisance = new RooArgSet();\n",
    "if (mc->GetNuisanceParameters())\n",
    "    poiAndNuisance->add(*mc->GetNuisanceParameters());\n",
    "poiAndNuisance->add(*mc->GetParametersOfInterest());\n",
    "w->saveSnapshot(\"paramsToGenerateData\",*poiAndNuisance);\n",
    "auto paramsToGenerateData = (RooArgSet*) poiAndNuisance->snapshot();\n",
    "cout << \"\\nWill use these parameter points to generate pseudo data for bkg only\" << endl;\n",
    "paramsToGenerateData->Print(\"v\");\n",
    "\n",
    "RooArgSet unconditionalObs;\n",
    "unconditionalObs.add(*mc->GetObservables());\n",
    "unconditionalObs.add(*mc->GetGlobalObservables()); // comment this out for the original conditional ensemble\n",
    "\n",
    "double CLb = 0;\n",
    "double CLbinclusive = 0;"
   ]
  },
  {
   "cell_type": "markdown",
   "metadata": {},
   "source": [
    "Now we generate background only and find distribution of upper limits."
   ]
  },
  {
   "cell_type": "code",
   "execution_count": 22,
   "metadata": {
    "collapsed": false
   },
   "outputs": [
    {
     "data": {
      "image/png": "[encoded data removed]",
      "text/plain": [
       "<IPython.core.display.Image object>"
      ]
     },
     "metadata": {},
     "output_type": "display_data"
    }
   ],
   "source": [
    "TH1F histOfUL(\"histOfUL\",\"\",100,0,firstPOI->getMax());\n",
    "histOfUL.GetXaxis()->SetTitle(\"Upper Limit (background only)\");\n",
    "histOfUL.GetYaxis()->SetTitle(\"Entries\");\n",
    "\n",
    "for (int imc=0; imc<nToyMC; ++imc) {\n",
    "    // set parameters back to values for generating pseudo data\n",
    "    w->loadSnapshot(\"paramsToGenerateData\");\n",
    "  \n",
    "    RooDataSet* toyData = 0;\n",
    "    // now generate a toy dataset\n",
    "    if(!mc->GetPdf()->canBeExtended()){\n",
    "        if (data->numEntries() == 1)\n",
    "            toyData = mc->GetPdf()->generate(*mc->GetObservables(),1);\n",
    "        else\n",
    "            cout <<\"Not sure what to do about this model\" <<endl;\n",
    "    }\n",
    "    else {\n",
    "       toyData = mc->GetPdf()->generate(*mc->GetObservables(),Extended());\n",
    "    }\n",
    "\n",
    "    // generate global observables\n",
    "    // need to be careful for simpdf\n",
    "    auto simPdf = dynamic_cast<RooSimultaneous*>(mc->GetPdf());\n",
    "    if (!simPdf) {\n",
    "        auto one = mc->GetPdf()->generate(*mc->GetGlobalObservables(), 1);\n",
    "        const RooArgSet *values = one->get();\n",
    "        auto allVars = mc->GetPdf()->getVariables();\n",
    "        *allVars = *values;\n",
    "        delete allVars;\n",
    "        delete values;\n",
    "        delete one;\n",
    "    }\n",
    "    else {\n",
    "        //try fix for sim pdf\n",
    "        auto iter = simPdf->indexCat().typeIterator() ;\n",
    "        RooCatType* tt = NULL;\n",
    "        while ((tt=(RooCatType*) iter->Next())) {\n",
    "            // Get pdf associated with state from simpdf\n",
    "            auto pdftmp = simPdf->getPdf(tt->GetName()) ;\n",
    "\n",
    "            // Generate only global variables defined by the pdf associated with this state\n",
    "            auto globtmp = pdftmp->getObservables(*mc->GetGlobalObservables()) ;\n",
    "            auto tmp = pdftmp->generate(*globtmp,1) ;\n",
    "\n",
    "            // Transfer values to output placeholder\n",
    "            *globtmp = *tmp->get(0) ;\n",
    "\n",
    "            // Cleanup\n",
    "            delete globtmp ;\n",
    "            delete tmp ;\n",
    "        }\n",
    "    }\n",
    "    \n",
    "    // get test stat at observed UL in observed data\n",
    "    firstPOI->setVal(observedUL);\n",
    "    double toyTSatObsUL = fc.GetTestStatSampler()->EvaluateTestStatistic(*toyData,tmpPOI);\n",
    "    \n",
    "    if (obsTSatObsUL < toyTSatObsUL) // not sure about <= part yet\n",
    "        CLb+= (1.)/nToyMC;\n",
    "    if (obsTSatObsUL <= toyTSatObsUL) // not sure about <= part yet\n",
    "        CLbinclusive+= (1.)/nToyMC;\n",
    "\n",
    "    // loop over points in belt to find upper limit for this toy data\n",
    "    double thisUL = 0;\n",
    "    for (Int_t i=0; i<parameterScan->numEntries(); ++i) {\n",
    "        tmpPoint = (RooArgSet*) parameterScan->get(i)->clone(\"temp\");\n",
    "        double arMax = belt->GetAcceptanceRegionMax(*tmpPoint);\n",
    "        firstPOI->setVal( tmpPoint->getRealValue(firstPOI->GetName()) );\n",
    "        double thisTS = fc.GetTestStatSampler()->EvaluateTestStatistic(*toyData,tmpPOI);\n",
    "\n",
    "        if (thisTS<=arMax) {\n",
    "            thisUL = firstPOI->getVal();\n",
    "        }\n",
    "        else {\n",
    "            break;\n",
    "        }\n",
    "    }\n",
    "    histOfUL.Fill(thisUL);\n",
    "\n",
    "    // for few events, data is often the same, and UL is often the same\n",
    "    delete toyData;\n",
    "}\n",
    "histOfUL.Draw();\n",
    "c1.Draw();"
   ]
  },
  {
   "cell_type": "markdown",
   "metadata": {},
   "source": [
    "Now find bands and power constraint."
   ]
  },
  {
   "cell_type": "code",
   "execution_count": 23,
   "metadata": {
    "collapsed": false
   },
   "outputs": [
    {
     "name": "stdout",
     "output_type": "stream",
     "text": [
      "-2 sigma  band 0\n",
      "-1 sigma  band 0 [Power Constraint)]\n",
      "median of band 0.195\n",
      "+1 sigma  band 0.945\n",
      "+2 sigma  band 1.245\n"
     ]
    }
   ],
   "source": [
    "auto bins = histOfUL.GetIntegral();\n",
    "auto cumulative = (TH1F*) histOfUL.Clone(\"cumulative\");\n",
    "cumulative->SetContent(bins);\n",
    "double band2sigDown, band1sigDown, bandMedian, band1sigUp,band2sigUp;\n",
    "\n",
    "for (int i=1; i<=cumulative->GetNbinsX(); ++i) {\n",
    "    if(bins[i]<RooStats::SignificanceToPValue(2))\n",
    "        band2sigDown=cumulative->GetBinCenter(i);\n",
    "    if(bins[i]<RooStats::SignificanceToPValue(1))\n",
    "        band1sigDown=cumulative->GetBinCenter(i);\n",
    "    if(bins[i]<0.5)\n",
    "        bandMedian=cumulative->GetBinCenter(i);\n",
    "    if(bins[i]<RooStats::SignificanceToPValue(-1))\n",
    "        band1sigUp=cumulative->GetBinCenter(i);\n",
    "    if(bins[i]<RooStats::SignificanceToPValue(-2))\n",
    "        band2sigUp=cumulative->GetBinCenter(i);\n",
    "}\n",
    "\n",
    "cout << \"-2 sigma  band \" << band2sigDown << endl;\n",
    "cout << \"-1 sigma  band \" << band1sigDown << \" [Power Constraint)]\" << endl;\n",
    "cout << \"median of band \" << bandMedian << endl;\n",
    "cout << \"+1 sigma  band \" << band1sigUp << endl;\n",
    "cout << \"+2 sigma  band \" << band2sigUp << endl;"
   ]
  },
  {
   "cell_type": "markdown",
   "metadata": {},
   "source": [
    "Print out the interval on the first Parameter of Interest."
   ]
  },
  {
   "cell_type": "code",
   "execution_count": 24,
   "metadata": {
    "collapsed": false
   },
   "outputs": [
    {
     "name": "stdout",
     "output_type": "stream",
     "text": [
      "\n",
      "observed 68% upper-limit 1.275\n",
      "CLb strict [P(toy>obs|0)] for observed 68% upper-limit 0.9875\n",
      "CLb inclusive [P(toy>=obs|0)] for observed 68% upper-limit 0.9875\n"
     ]
    }
   ],
   "source": [
    "cout << \"\\nobserved \" << confidenceLevel*100 <<  \"% upper-limit \"<< interval->UpperLimit(*firstPOI) <<endl;\n",
    "cout << \"CLb strict [P(toy>obs|0)] for observed \" << confidenceLevel*100 <<  \"% upper-limit \"<< CLb <<endl;\n",
    "cout << \"CLb inclusive [P(toy>=obs|0)] for observed \" << confidenceLevel*100 <<  \"% upper-limit \"<< CLbinclusive <<endl;\n",
    "\n",
    "delete profile;\n",
    "delete nll;"
   ]
  }
 ],
 "metadata": {
  "kernelspec": {
   "display_name": "ROOT C++",
   "language": "c++",
   "name": "root"
  },
  "language_info": {
   "codemirror_mode": "text/x-c++src",
   "file_extension": ".C",
   "mimetype": " text/x-c++src",
   "name": "c++"
  }
 },
 "nbformat": 4,
 "nbformat_minor": 0
}
