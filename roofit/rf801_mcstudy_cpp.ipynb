{
 "cells": [
  {
   "cell_type": "markdown",
   "metadata": {},
   "source": [
    "# Validation and MC Studies\n",
    "\n",
    "## RooFit tutorial macro #801\n",
    "\n",
    "A Toy Monte Carlo study that performs cycles of event generation and fitting.\n",
    "\n",
    "---"
   ]
  },
  {
   "cell_type": "code",
   "execution_count": 1,
   "metadata": {
    "collapsed": false
   },
   "outputs": [],
   "source": [
    "using namespace RooFit;"
   ]
  },
  {
   "cell_type": "markdown",
   "metadata": {},
   "source": [
    "## Create model\n",
    "Declare observable x."
   ]
  },
  {
   "cell_type": "code",
   "execution_count": 2,
   "metadata": {
    "collapsed": false
   },
   "outputs": [
    {
     "name": "stdout",
     "output_type": "stream",
     "text": [
      "\n",
      "\u001b[1mRooFit v3.60 -- Developed by Wouter Verkerke and David Kirkby\u001b[0m \n",
      "                Copyright (C) 2000-2013 NIKHEF, University of California & Stanford University\n",
      "                All rights reserved, please read http://roofit.sourceforge.net/license.txt\n",
      "\n"
     ]
    }
   ],
   "source": [
    "RooRealVar x(\"x\",\"x\",0,10);\n",
    "x.setBins(40);"
   ]
  },
  {
   "cell_type": "markdown",
   "metadata": {},
   "source": [
    "Create two Gaussian PDFs `g1(x,mean1,sigma)` and `g2(x,mean2,sigma)` and their parameters."
   ]
  },
  {
   "cell_type": "code",
   "execution_count": 3,
   "metadata": {
    "collapsed": true
   },
   "outputs": [],
   "source": [
    "RooRealVar mean(\"mean\",\"mean of gaussians\",5,0,10);\n",
    "RooRealVar sigma1(\"sigma1\",\"width of gaussians\",0.5);\n",
    "RooRealVar sigma2(\"sigma2\",\"width of gaussians\",1);\n",
    "\n",
    "RooGaussian sig1(\"sig1\",\"Signal component 1\",x,mean,sigma1);\n",
    "RooGaussian sig2(\"sig2\",\"Signal component 2\",x,mean,sigma2);"
   ]
  },
  {
   "cell_type": "markdown",
   "metadata": {},
   "source": [
    "Build Chebychev polynomial p.d.f."
   ]
  },
  {
   "cell_type": "code",
   "execution_count": 4,
   "metadata": {
    "collapsed": true
   },
   "outputs": [],
   "source": [
    "RooRealVar a0(\"a0\",\"a0\",0.5,0.,1.);\n",
    "RooRealVar a1(\"a1\",\"a1\",-0.2,-1,1.);\n",
    "RooChebychev bkg(\"bkg\",\"Background\",x,RooArgSet(a0,a1));"
   ]
  },
  {
   "cell_type": "markdown",
   "metadata": {},
   "source": [
    "Sum the signal components into a composite signal p.d.f."
   ]
  },
  {
   "cell_type": "code",
   "execution_count": 5,
   "metadata": {
    "collapsed": false
   },
   "outputs": [],
   "source": [
    "RooRealVar sig1frac(\"sig1frac\",\"fraction of component 1 in signal\",0.8,0.,1.);\n",
    "RooAddPdf sig(\"sig\",\"Signal\",RooArgList(sig1,sig2),sig1frac);"
   ]
  },
  {
   "cell_type": "markdown",
   "metadata": {},
   "source": [
    "Sum the composite signal and background."
   ]
  },
  {
   "cell_type": "code",
   "execution_count": 6,
   "metadata": {
    "collapsed": false
   },
   "outputs": [],
   "source": [
    "RooRealVar nbkg(\"nbkg\",\"number of background events,\",150,0,1000);\n",
    "RooRealVar nsig(\"nsig\",\"number of signal events\",150,0,1000);\n",
    "RooAddPdf  model(\"model\",\"g1+g2+a\",RooArgList(bkg,sig),RooArgList(nbkg,nsig));"
   ]
  },
  {
   "cell_type": "markdown",
   "metadata": {},
   "source": [
    "## Create manager\n",
    "Instantiate RooMCStudy manager on model with x as observable and given choice of fit options.\n",
    "\n",
    "The `Silence()` option kills all messages below the `PROGRESS` level, leaving only a single message per sample executed, and any error message that occurred during fitting.\n",
    "\n",
    "The `Extended()` option has two effects: \n",
    "1. The extended ML term is included in the likelihood.\n",
    "2. A poisson fluctuation is introduced on the number of generated events. \n",
    "\n",
    "The `FitOptions()` given here are passed to the fitting stage of each toy experiment. If `Save()` is specified, the fit result of each experiment is saved by the manager.\n",
    "\n",
    "A `Binned()` option is added in this example to bin the data between generation and fitting to speed up the study at the expense of some precision."
   ]
  },
  {
   "cell_type": "code",
   "execution_count": 7,
   "metadata": {
    "collapsed": false
   },
   "outputs": [],
   "source": [
    "RooMCStudy mcstudy(model,\n",
    "                   x,\n",
    "                   Binned(kTRUE),\n",
    "                   Silence(),\n",
    "                   Extended(),\n",
    "                   FitOptions(Save(kTRUE),PrintEvalErrors(0)));"
   ]
  },
  {
   "cell_type": "markdown",
   "metadata": {},
   "source": [
    "## Generate and fit events\n",
    "Generate and fit 1000 samples of `Poisson(nExpected)` events."
   ]
  },
  {
   "cell_type": "code",
   "execution_count": 8,
   "metadata": {
    "collapsed": false
   },
   "outputs": [
    {
     "name": "stdout",
     "output_type": "stream",
     "text": [
      "[#0] PROGRESS:Generation -- RooMCStudy::run: sample 990\n",
      "[#0] PROGRESS:Generation -- RooMCStudy::run: sample 980\n",
      "[#0] PROGRESS:Generation -- RooMCStudy::run: sample 970\n",
      "[#0] PROGRESS:Generation -- RooMCStudy::run: sample 960\n",
      "[#0] PROGRESS:Generation -- RooMCStudy::run: sample 950\n",
      "[#0] WARNING:Minization -- RooMinuitGlue: Minimized function has error status.\n",
      "Returning maximum FCN so far (-797.721) to force MIGRAD to back out of this region. Error log follows\n",
      "Parameter values: a0=0.716236, a1=-0.675686, mean=5.04367, nbkg=115.661, nsig=155.327, sig1frac=0.880121\n",
      "RooChebychev::bkg[ x=x coefList=(a0,a1) ] has 1 errors\n",
      "\n",
      "[#0] PROGRESS:Generation -- RooMCStudy::run: sample 940\n",
      "[#0] PROGRESS:Generation -- RooMCStudy::run: sample 930\n",
      "[#0] WARNING:Minization -- RooMinuitGlue: Minimized function has error status.\n",
      "Returning maximum FCN so far (-867.289) to force MIGRAD to back out of this region. Error log follows\n",
      "Parameter values: a0=0.907715, a1=-0.26012, mean=4.95881, nbkg=147.451, nsig=156.366, sig1frac=0.890535\n",
      "RooChebychev::bkg[ x=x coefList=(a0,a1) ] has 1 errors\n",
      "\n",
      "[#0] PROGRESS:Generation -- RooMCStudy::run: sample 920\n",
      "[#0] PROGRESS:Generation -- RooMCStudy::run: sample 910\n",
      "[#0] PROGRESS:Generation -- RooMCStudy::run: sample 900\n",
      "[#0] WARNING:Minization -- RooMinuitGlue: Minimized function has error status.\n",
      "Returning maximum FCN so far (-871.381) to force MIGRAD to back out of this region. Error log follows\n",
      "Parameter values: a0=0.716361, a1=-0.355239, mean=5.05578, nbkg=159.647, nsig=151.993, sig1frac=0.742914\n",
      "RooChebychev::bkg[ x=x coefList=(a0,a1) ] has 1 errors\n",
      "\n",
      "[#0] PROGRESS:Generation -- RooMCStudy::run: sample 890\n",
      "[#0] PROGRESS:Generation -- RooMCStudy::run: sample 880\n",
      "[#0] PROGRESS:Generation -- RooMCStudy::run: sample 870\n",
      "[#0] WARNING:Minization -- RooMinuitGlue: Minimized function has error status.\n",
      "Returning maximum FCN so far (-903.916) to force MIGRAD to back out of this region. Error log follows\n",
      "Parameter values: a0=0.877959, a1=-0.428367, mean=4.99746, nbkg=167.444, nsig=157.288, sig1frac=0.424997\n",
      "RooChebychev::bkg[ x=x coefList=(a0,a1) ] has 1 errors\n",
      "\n",
      "[#0] PROGRESS:Generation -- RooMCStudy::run: sample 860\n",
      "[#0] PROGRESS:Generation -- RooMCStudy::run: sample 850\n",
      "[#0] PROGRESS:Generation -- RooMCStudy::run: sample 840\n",
      "[#0] PROGRESS:Generation -- RooMCStudy::run: sample 830\n",
      "[#0] WARNING:Minization -- RooMinuitGlue: Minimized function has error status.\n",
      "Returning maximum FCN so far (-970.563) to force MIGRAD to back out of this region. Error log follows\n",
      "Parameter values: a0=0.867793, a1=-0.296045, mean=5.10353, nbkg=164.822, nsig=173.566, sig1frac=0.899431\n",
      "RooChebychev::bkg[ x=x coefList=(a0,a1) ] has 1 errors\n",
      "\n",
      "[#0] PROGRESS:Generation -- RooMCStudy::run: sample 820\n",
      "[#0] PROGRESS:Generation -- RooMCStudy::run: sample 810\n",
      "[#0] PROGRESS:Generation -- RooMCStudy::run: sample 800\n",
      "[#0] PROGRESS:Generation -- RooMCStudy::run: sample 790\n",
      "[#0] PROGRESS:Generation -- RooMCStudy::run: sample 780\n",
      "[#0] PROGRESS:Generation -- RooMCStudy::run: sample 770\n",
      "[#0] PROGRESS:Generation -- RooMCStudy::run: sample 760\n",
      "[#0] WARNING:Minization -- RooMinuitGlue: Minimized function has error status.\n",
      "Returning maximum FCN so far (-915.472) to force MIGRAD to back out of this region. Error log follows\n",
      "Parameter values: a0=0.807508, a1=-0.34963, mean=5.09438, nbkg=142.436, nsig=172.312, sig1frac=0.886183\n",
      "RooChebychev::bkg[ x=x coefList=(a0,a1) ] has 1 errors\n",
      "\n",
      "[#0] PROGRESS:Generation -- RooMCStudy::run: sample 750\n",
      "[#0] WARNING:Minization -- RooMinuitGlue: Minimized function has error status.\n",
      "Returning maximum FCN so far (-885.867) to force MIGRAD to back out of this region. Error log follows\n",
      "Parameter values: a0=0.7962, a1=-0.414289, mean=5.07605, nbkg=135.514, nsig=167.164, sig1frac=0.927781\n",
      "RooChebychev::bkg[ x=x coefList=(a0,a1) ] has 1 errors\n",
      "\n",
      "[#0] WARNING:Minization -- RooMinuitGlue: Minimized function has error status.\n",
      "Returning maximum FCN so far (-848.597) to force MIGRAD to back out of this region. Error log follows\n",
      "Parameter values: a0=0.577138, a1=-0.518554, mean=5.09299, nbkg=144.203, nsig=156.938, sig1frac=0.54541\n",
      "RooChebychev::bkg[ x=x coefList=(a0,a1) ] has 1 errors\n",
      "\n",
      "[#0] PROGRESS:Generation -- RooMCStudy::run: sample 740\n",
      "[#0] PROGRESS:Generation -- RooMCStudy::run: sample 730\n",
      "[#0] PROGRESS:Generation -- RooMCStudy::run: sample 720\n",
      "[#0] PROGRESS:Generation -- RooMCStudy::run: sample 710\n",
      "[#0] PROGRESS:Generation -- RooMCStudy::run: sample 700\n",
      "[#0] WARNING:Minization -- RooMinuitGlue: Minimized function has error status.\n",
      "Returning maximum FCN so far (-814.549) to force MIGRAD to back out of this region. Error log follows\n",
      "Parameter values: a0=0.848973, a1=-0.489149, mean=5.08811, nbkg=132.911, nsig=150.647, sig1frac=0.826731\n",
      "RooChebychev::bkg[ x=x coefList=(a0,a1) ] has 1 errors\n",
      "\n",
      "[#0] PROGRESS:Generation -- RooMCStudy::run: sample 690\n",
      "[#0] PROGRESS:Generation -- RooMCStudy::run: sample 680\n",
      "[#0] PROGRESS:Generation -- RooMCStudy::run: sample 670\n",
      "[#0] WARNING:Minization -- RooMinuitGlue: Minimized function has error status.\n",
      "Returning maximum FCN so far (-809.662) to force MIGRAD to back out of this region. Error log follows\n",
      "Parameter values: a0=0.713661, a1=-0.606754, mean=5.02862, nbkg=142.583, nsig=145.399, sig1frac=0.623944\n",
      "RooChebychev::bkg[ x=x coefList=(a0,a1) ] has 1 errors\n",
      "\n",
      "[#0] WARNING:Minization -- RooMinuitGlue: Minimized function has error status.\n",
      "Returning maximum FCN so far (-861.002) to force MIGRAD to back out of this region. Error log follows\n",
      "Parameter values: a0=0.744046, a1=-0.311529, mean=5.09799, nbkg=161.409, nsig=148.884, sig1frac=0.512806\n",
      "RooChebychev::bkg[ x=x coefList=(a0,a1) ] has 1 errors\n",
      "\n",
      "[#0] PROGRESS:Generation -- RooMCStudy::run: sample 660\n",
      "[#0] PROGRESS:Generation -- RooMCStudy::run: sample 650\n",
      "[#0] PROGRESS:Generation -- RooMCStudy::run: sample 640\n",
      "[#0] PROGRESS:Generation -- RooMCStudy::run: sample 630\n",
      "[#0] PROGRESS:Generation -- RooMCStudy::run: sample 620\n",
      "[#0] PROGRESS:Generation -- RooMCStudy::run: sample 610\n",
      "[#0] WARNING:Minization -- RooMinuitGlue: Minimized function has error status.\n",
      "Returning maximum FCN so far (-809.027) to force MIGRAD to back out of this region. Error log follows\n",
      "Parameter values: a0=0.719517, a1=-0.347533, mean=5.00927, nbkg=127.977, nsig=152.559, sig1frac=0.917291\n",
      "RooChebychev::bkg[ x=x coefList=(a0,a1) ] has 1 errors\n",
      "\n",
      "[#0] PROGRESS:Generation -- RooMCStudy::run: sample 600\n",
      "[#0] PROGRESS:Generation -- RooMCStudy::run: sample 590\n",
      "[#0] PROGRESS:Generation -- RooMCStudy::run: sample 580\n",
      "[#0] WARNING:Minization -- RooMinuitGlue: Minimized function has error status.\n",
      "Returning maximum FCN so far (-869.586) to force MIGRAD to back out of this region. Error log follows\n",
      "Parameter values: a0=0.621299, a1=-0.442393, mean=5.13262, nbkg=131.7, nsig=167.982, sig1frac=0.776177\n",
      "RooChebychev::bkg[ x=x coefList=(a0,a1) ] has 1 errors\n",
      "\n",
      "[#0] PROGRESS:Generation -- RooMCStudy::run: sample 570\n",
      "[#0] PROGRESS:Generation -- RooMCStudy::run: sample 560\n",
      "[#0] PROGRESS:Generation -- RooMCStudy::run: sample 550\n",
      "[#0] PROGRESS:Generation -- RooMCStudy::run: sample 540\n",
      "[#0] PROGRESS:Generation -- RooMCStudy::run: sample 530\n",
      "[#0] WARNING:Minization -- RooMinuitGlue: Minimized function has error status.\n",
      "Returning maximum FCN so far (-820.086) to force MIGRAD to back out of this region. Error log follows\n",
      "Parameter values: a0=0.699182, a1=-0.532303, mean=4.90748, nbkg=130.722, nsig=155.109, sig1frac=0.843514\n",
      "RooChebychev::bkg[ x=x coefList=(a0,a1) ] has 1 errors\n",
      "\n",
      "[#0] PROGRESS:Generation -- RooMCStudy::run: sample 520\n",
      "[#0] PROGRESS:Generation -- RooMCStudy::run: sample 510\n",
      "[#0] WARNING:Minization -- RooMinuitGlue: Minimized function has error status.\n",
      "Returning maximum FCN so far (-814.421) to force MIGRAD to back out of this region. Error log follows\n",
      "Parameter values: a0=0.729962, a1=-0.49802, mean=4.92039, nbkg=146.276, nsig=144.44, sig1frac=0.620699\n",
      "RooChebychev::bkg[ x=x coefList=(a0,a1) ] has 1 errors\n",
      "\n",
      "[#0] PROGRESS:Generation -- RooMCStudy::run: sample 500\n",
      "[#0] PROGRESS:Generation -- RooMCStudy::run: sample 490\n",
      "[#0] PROGRESS:Generation -- RooMCStudy::run: sample 480\n",
      "[#0] PROGRESS:Generation -- RooMCStudy::run: sample 470\n",
      "[#0] PROGRESS:Generation -- RooMCStudy::run: sample 460\n",
      "[#0] PROGRESS:Generation -- RooMCStudy::run: sample 450\n",
      "[#0] PROGRESS:Generation -- RooMCStudy::run: sample 440\n",
      "[#0] PROGRESS:Generation -- RooMCStudy::run: sample 430\n",
      "[#0] WARNING:Minization -- RooMinuitGlue: Minimized function has error status.\n",
      "Returning maximum FCN so far (-926.481) to force MIGRAD to back out of this region. Error log follows\n",
      "Parameter values: a0=0.653979, a1=-0.469539, mean=5.00078, nbkg=160.963, nsig=166.526, sig1frac=0.628924\n",
      "RooChebychev::bkg[ x=x coefList=(a0,a1) ] has 1 errors\n",
      "\n",
      "[#0] PROGRESS:Generation -- RooMCStudy::run: sample 420\n",
      "[#0] WARNING:Minization -- RooMinuitGlue: Minimized function has error status.\n",
      "Returning maximum FCN so far (-768.847) to force MIGRAD to back out of this region. Error log follows\n",
      "Parameter values: a0=0.749295, a1=-0.303934, mean=4.98272, nbkg=121.461, nsig=145.338, sig1frac=0.822833\n",
      "RooChebychev::bkg[ x=x coefList=(a0,a1) ] has 1 errors\n",
      "\n",
      "[#0] WARNING:Minization -- RooMinuitGlue: Minimized function has error status.\n",
      "Returning maximum FCN so far (-798.509) to force MIGRAD to back out of this region. Error log follows\n",
      "Parameter values: a0=0.791035, a1=-0.287544, mean=4.98693, nbkg=127.577, nsig=149.203, sig1frac=0.914567\n",
      "RooChebychev::bkg[ x=x coefList=(a0,a1) ] has 1 errors\n",
      "\n",
      "[#0] PROGRESS:Generation -- RooMCStudy::run: sample 410\n",
      "[#0] PROGRESS:Generation -- RooMCStudy::run: sample 400\n",
      "[#0] PROGRESS:Generation -- RooMCStudy::run: sample 390\n",
      "[#0] WARNING:Minization -- RooMinuitGlue: Minimized function has error status.\n",
      "Returning maximum FCN so far (-977.775) to force MIGRAD to back out of this region. Error log follows\n",
      "Parameter values: a0=0.565967, a1=-0.529635, mean=5.0065, nbkg=153.38, nsig=185.083, sig1frac=0.751239\n",
      "RooChebychev::bkg[ x=x coefList=(a0,a1) ] has 1 errors\n",
      "\n",
      "[#0] PROGRESS:Generation -- RooMCStudy::run: sample 380\n",
      "[#0] PROGRESS:Generation -- RooMCStudy::run: sample 370\n",
      "[#0] WARNING:Minization -- RooMinuitGlue: Minimized function has error status.\n",
      "Returning maximum FCN so far (-945.036) to force MIGRAD to back out of this region. Error log follows\n",
      "Parameter values: a0=0.824344, a1=-0.338546, mean=5.06339, nbkg=161.705, nsig=169.087, sig1frac=0.910016\n",
      "RooChebychev::bkg[ x=x coefList=(a0,a1) ] has 1 errors\n",
      "\n",
      "[#0] PROGRESS:Generation -- RooMCStudy::run: sample 360\n",
      "[#0] PROGRESS:Generation -- RooMCStudy::run: sample 350\n",
      "[#0] PROGRESS:Generation -- RooMCStudy::run: sample 340\n",
      "[#0] PROGRESS:Generation -- RooMCStudy::run: sample 330\n",
      "[#0] PROGRESS:Generation -- RooMCStudy::run: sample 320\n",
      "[#0] PROGRESS:Generation -- RooMCStudy::run: sample 310\n",
      "[#0] WARNING:Minization -- RooMinuitGlue: Minimized function has error status.\n",
      "Returning maximum FCN so far (-831.776) to force MIGRAD to back out of this region. Error log follows\n",
      "Parameter values: a0=0.823781, a1=-0.287947, mean=4.96347, nbkg=133.185, nsig=155.535, sig1frac=0.887106\n",
      "RooChebychev::bkg[ x=x coefList=(a0,a1) ] has 1 errors\n",
      "\n",
      "[#0] PROGRESS:Generation -- RooMCStudy::run: sample 300\n",
      "[#0] PROGRESS:Generation -- RooMCStudy::run: sample 290\n",
      "[#0] PROGRESS:Generation -- RooMCStudy::run: sample 280\n",
      "[#0] WARNING:Minization -- RooMinuitGlue: Minimized function has error status.\n",
      "Returning maximum FCN so far (-867.974) to force MIGRAD to back out of this region. Error log follows\n",
      "Parameter values: a0=0.806741, a1=-0.376486, mean=4.95962, nbkg=143.191, nsig=160.421, sig1frac=0.787531\n",
      "RooChebychev::bkg[ x=x coefList=(a0,a1) ] has 1 errors\n",
      "\n",
      "[#0] PROGRESS:Generation -- RooMCStudy::run: sample 270\n",
      "[#0] WARNING:Minization -- RooMinuitGlue: Minimized function has error status.\n",
      "Returning maximum FCN so far (-810.184) to force MIGRAD to back out of this region. Error log follows\n",
      "Parameter values: a0=0.701119, a1=-0.376392, mean=4.96099, nbkg=126.85, nsig=153.527, sig1frac=0.880449\n",
      "RooChebychev::bkg[ x=x coefList=(a0,a1) ] has 1 errors\n",
      "\n",
      "[#0] WARNING:Minization -- RooMinuitGlue: Minimized function has error status.\n",
      "Returning maximum FCN so far (-845.198) to force MIGRAD to back out of this region. Error log follows\n",
      "Parameter values: a0=0.74363, a1=-0.435344, mean=5.01952, nbkg=162.467, nsig=143.571, sig1frac=0.630815\n",
      "RooChebychev::bkg[ x=x coefList=(a0,a1) ] has 1 errors\n",
      "\n",
      "[#0] PROGRESS:Generation -- RooMCStudy::run: sample 260\n",
      "[#0] PROGRESS:Generation -- RooMCStudy::run: sample 250\n",
      "[#0] WARNING:Minization -- RooMinuitGlue: Minimized function has error status.\n",
      "Returning maximum FCN so far (-1003.82) to force MIGRAD to back out of this region. Error log follows\n",
      "Parameter values: a0=0.674666, a1=-0.383697, mean=5.00365, nbkg=169.829, nsig=179.534, sig1frac=0.921743\n",
      "RooChebychev::bkg[ x=x coefList=(a0,a1) ] has 1 errors\n",
      "\n",
      "[#0] WARNING:Minization -- RooMinuitGlue: Minimized function has error status.\n",
      "Returning maximum FCN so far (-712.949) to force MIGRAD to back out of this region. Error log follows\n",
      "Parameter values: a0=0.711808, a1=-0.34088, mean=4.99573, nbkg=115.49, nsig=133.015, sig1frac=0.908627\n",
      "RooChebychev::bkg[ x=x coefList=(a0,a1) ] has 1 errors\n",
      "\n",
      "[#0] PROGRESS:Generation -- RooMCStudy::run: sample 240\n",
      "[#0] PROGRESS:Generation -- RooMCStudy::run: sample 230\n",
      "[#0] PROGRESS:Generation -- RooMCStudy::run: sample 220\n",
      "[#0] PROGRESS:Generation -- RooMCStudy::run: sample 210\n",
      "[#0] PROGRESS:Generation -- RooMCStudy::run: sample 200\n",
      "[#0] PROGRESS:Generation -- RooMCStudy::run: sample 190\n",
      "[#0] PROGRESS:Generation -- RooMCStudy::run: sample 180\n",
      "[#0] PROGRESS:Generation -- RooMCStudy::run: sample 170\n",
      "[#0] PROGRESS:Generation -- RooMCStudy::run: sample 160\n",
      "[#0] PROGRESS:Generation -- RooMCStudy::run: sample 150\n",
      "[#0] WARNING:Minization -- RooMinuitGlue: Minimized function has error status.\n",
      "Returning maximum FCN so far (-750.903) to force MIGRAD to back out of this region. Error log follows\n",
      "Parameter values: a0=0.726225, a1=-0.429497, mean=5.03871, nbkg=129.53, nsig=136.644, sig1frac=0.687558\n",
      "RooChebychev::bkg[ x=x coefList=(a0,a1) ] has 1 errors\n",
      "\n",
      "[#0] PROGRESS:Generation -- RooMCStudy::run: sample 140\n",
      "[#0] WARNING:Minization -- RooMinuitGlue: Minimized function has error status.\n",
      "Returning maximum FCN so far (-740.756) to force MIGRAD to back out of this region. Error log follows\n",
      "Parameter values: a0=0.899536, a1=-0.345881, mean=5.03897, nbkg=135.176, nsig=129.13, sig1frac=0.899393\n",
      "RooChebychev::bkg[ x=x coefList=(a0,a1) ] has 1 errors\n",
      "\n",
      "[#0] WARNING:Minization -- RooMinuitGlue: Minimized function has error status.\n",
      "Returning maximum FCN so far (-677.604) to force MIGRAD to back out of this region. Error log follows\n",
      "Parameter values: a0=0.766597, a1=-0.547838, mean=5.03836, nbkg=119.039, nsig=121.817, sig1frac=0.213703\n",
      "RooChebychev::bkg[ x=x coefList=(a0,a1) ] has 1 errors\n",
      "\n",
      "[#0] PROGRESS:Generation -- RooMCStudy::run: sample 130\n",
      "[#0] WARNING:Minization -- RooMinuitGlue: Minimized function has error status.\n",
      "Returning maximum FCN so far (-777.498) to force MIGRAD to back out of this region. Error log follows\n",
      "Parameter values: a0=0.527582, a1=-0.893856, mean=5.24753, nbkg=162.951, nsig=65.9357, sig1frac=0.970262\n",
      "RooChebychev::bkg[ x=x coefList=(a0,a1) ] has 1 errors\n",
      "\n",
      "[#0] WARNING:Minization -- RooMinuitGlue: Minimized function has error status.\n",
      "Returning maximum FCN so far (-777.498) to force MIGRAD to back out of this region. Error log follows\n",
      "Parameter values: a0=0.516095, a1=-0.955515, mean=5.14443, nbkg=157.502, nsig=97.2821, sig1frac=0.174928\n",
      "RooChebychev::bkg[ x=x coefList=(a0,a1) ] has 1 errors\n",
      "\n",
      "[#0] WARNING:Minization -- RooMinuitGlue: Minimized function has error status.\n",
      "Returning maximum FCN so far (-777.498) to force MIGRAD to back out of this region. Error log follows\n",
      "Parameter values: a0=0.510348, a1=-0.776595, mean=5.09286, nbkg=154.805, nsig=114.979, sig1frac=0.0496841\n",
      "RooChebychev::bkg[ x=x coefList=(a0,a1) ] has 1 errors\n",
      "\n",
      "[#0] PROGRESS:Generation -- RooMCStudy::run: sample 120\n",
      "[#0] PROGRESS:Generation -- RooMCStudy::run: sample 110\n",
      "[#0] WARNING:Minization -- RooMinuitGlue: Minimized function has error status.\n",
      "Returning maximum FCN so far (-796.54) to force MIGRAD to back out of this region. Error log follows\n",
      "Parameter values: a0=0.702991, a1=-0.414346, mean=5.11911, nbkg=145.466, nsig=141.134, sig1frac=0.532895\n",
      "RooChebychev::bkg[ x=x coefList=(a0,a1) ] has 1 errors\n",
      "\n",
      "[#0] PROGRESS:Generation -- RooMCStudy::run: sample 100\n",
      "[#0] WARNING:Minization -- RooMinuitGlue: Minimized function has error status.\n",
      "Returning maximum FCN so far (-920.777) to force MIGRAD to back out of this region. Error log follows\n",
      "Parameter values: a0=0.726241, a1=-0.424659, mean=5.05565, nbkg=151.228, nsig=170.816, sig1frac=0.771802\n",
      "RooChebychev::bkg[ x=x coefList=(a0,a1) ] has 1 errors\n",
      "\n",
      "[#0] WARNING:Minization -- RooMinuitGlue: Minimized function has error status.\n",
      "Returning maximum FCN so far (-743.339) to force MIGRAD to back out of this region. Error log follows\n",
      "Parameter values: a0=0.942558, a1=-0.775768, mean=4.99866, nbkg=187.872, nsig=63.0852, sig1frac=0.868175\n",
      "RooChebychev::bkg[ x=x coefList=(a0,a1) ] has 1 errors\n",
      "\n",
      "[#0] WARNING:Minization -- RooMinuitGlue: Minimized function has error status.\n",
      "Returning maximum FCN so far (-743.339) to force MIGRAD to back out of this region. Error log follows\n",
      "Parameter values: a0=0.984478, a1=-0.59938, mean=4.99914, nbkg=173.959, nsig=90.3182, sig1frac=0.461117\n",
      "RooChebychev::bkg[ x=x coefList=(a0,a1) ] has 1 errors\n",
      "\n",
      "[#0] PROGRESS:Generation -- RooMCStudy::run: sample 90\n",
      "[#0] PROGRESS:Generation -- RooMCStudy::run: sample 80\n",
      "[#0] PROGRESS:Generation -- RooMCStudy::run: sample 70\n",
      "[#0] WARNING:Minization -- RooMinuitGlue: Minimized function has error status.\n",
      "Returning maximum FCN so far (-775.389) to force MIGRAD to back out of this region. Error log follows\n",
      "Parameter values: a0=0.72761, a1=-0.375581, mean=5.04879, nbkg=141.143, nsig=137.402, sig1frac=0.495257\n",
      "RooChebychev::bkg[ x=x coefList=(a0,a1) ] has 1 errors\n",
      "\n",
      "[#0] PROGRESS:Generation -- RooMCStudy::run: sample 60\n",
      "[#0] PROGRESS:Generation -- RooMCStudy::run: sample 50\n",
      "[#0] PROGRESS:Generation -- RooMCStudy::run: sample 40\n",
      "[#0] PROGRESS:Generation -- RooMCStudy::run: sample 30\n",
      "[#0] PROGRESS:Generation -- RooMCStudy::run: sample 20\n",
      "[#0] PROGRESS:Generation -- RooMCStudy::run: sample 10\n",
      "[#0] PROGRESS:Generation -- RooMCStudy::run: sample 0\n"
     ]
    }
   ],
   "source": [
    "mcstudy.generateAndFit(1000);"
   ]
  },
  {
   "cell_type": "markdown",
   "metadata": {},
   "source": [
    "## Explore results of study\n",
    "Make plots of the distributions of the mean, the error of the mean and the pull of the mean."
   ]
  },
  {
   "cell_type": "code",
   "execution_count": 9,
   "metadata": {
    "collapsed": false
   },
   "outputs": [
    {
     "name": "stdout",
     "output_type": "stream",
     "text": [
      "\n",
      "[#1] INFO:NumericIntegration -- RooRealIntegral::init(pullGauss_Int[meanpull]) using numeric integrator RooIntegrator1D to calculate Int(meanpull)\n",
      "[#1] INFO:NumericIntegration -- RooRealIntegral::init(pullGauss_Int[meanpull]) using numeric integrator RooIntegrator1D to calculate Int(meanpull)\n"
     ]
    }
   ],
   "source": [
    "auto frame1 = mcstudy.plotParam(mean,Bins(64));\n",
    "auto frame2 = mcstudy.plotError(mean,Bins(64));\n",
    "auto frame3 = mcstudy.plotPull(mean,Bins(64),FitGauss(kTRUE));"
   ]
  },
  {
   "cell_type": "markdown",
   "metadata": {},
   "source": [
    "Plot distribution of minimized likelihood."
   ]
  },
  {
   "cell_type": "code",
   "execution_count": 10,
   "metadata": {
    "collapsed": false
   },
   "outputs": [],
   "source": [
    "auto frame4 = mcstudy.plotNLL(Bins(64));"
   ]
  },
  {
   "cell_type": "markdown",
   "metadata": {},
   "source": [
    "Create some histograms from the parameter dataset."
   ]
  },
  {
   "cell_type": "code",
   "execution_count": 11,
   "metadata": {
    "collapsed": false
   },
   "outputs": [],
   "source": [
    "auto hh_cor_a0_s1f = mcstudy.fitParDataSet().createHistogram(\"hh\",a1,YVar(sig1frac));\n",
    "auto hh_cor_a0_a1  = mcstudy.fitParDataSet().createHistogram(\"hh\",a0,YVar(a1));"
   ]
  },
  {
   "cell_type": "markdown",
   "metadata": {},
   "source": [
    "Access some of the saved fit results from individual toys."
   ]
  },
  {
   "cell_type": "code",
   "execution_count": 12,
   "metadata": {
    "collapsed": false
   },
   "outputs": [],
   "source": [
    "auto corrHist000 = mcstudy.fitResult(0)->correlationHist(\"c000\");\n",
    "auto corrHist127 = mcstudy.fitResult(127)->correlationHist(\"c127\");\n",
    "auto corrHist953 = mcstudy.fitResult(953)->correlationHist(\"c953\");"
   ]
  },
  {
   "cell_type": "markdown",
   "metadata": {},
   "source": [
    "Draw all plots on a canvas."
   ]
  },
  {
   "cell_type": "code",
   "execution_count": 13,
   "metadata": {
    "collapsed": false
   },
   "outputs": [],
   "source": [
    "gStyle->SetPalette(1);\n",
    "gStyle->SetOptStat(0);\n",
    "TCanvas c(\"rf801_mcstudy\",\"rf801_mcstudy\",900,900);\n",
    "c.Divide(3,3);\n",
    "c.cd(1); gPad->SetLeftMargin(0.15); frame1->GetYaxis()->SetTitleOffset(1.4); frame1->Draw();\n",
    "c.cd(2); gPad->SetLeftMargin(0.15); frame2->GetYaxis()->SetTitleOffset(1.4); frame2->Draw();\n",
    "c.cd(3); gPad->SetLeftMargin(0.15); frame3->GetYaxis()->SetTitleOffset(1.4); frame3->Draw();\n",
    "c.cd(4); gPad->SetLeftMargin(0.15); frame4->GetYaxis()->SetTitleOffset(1.4); frame4->Draw();\n",
    "c.cd(5); gPad->SetLeftMargin(0.15); hh_cor_a0_s1f->GetYaxis()->SetTitleOffset(1.4); hh_cor_a0_s1f->Draw(\"box\");\n",
    "c.cd(6); gPad->SetLeftMargin(0.15); hh_cor_a0_a1->GetYaxis()->SetTitleOffset(1.4); hh_cor_a0_a1->Draw(\"box\");\n",
    "c.cd(7); gPad->SetLeftMargin(0.15); corrHist000->GetYaxis()->SetTitleOffset(1.4); corrHist000->Draw(\"colz\");\n",
    "c.cd(8); gPad->SetLeftMargin(0.15); corrHist127->GetYaxis()->SetTitleOffset(1.4); corrHist127->Draw(\"colz\");\n",
    "c.cd(9); gPad->SetLeftMargin(0.15); corrHist953->GetYaxis()->SetTitleOffset(1.4); corrHist953->Draw(\"colz\");"
   ]
  },
  {
   "cell_type": "markdown",
   "metadata": {},
   "source": [
    "Draw the canvas."
   ]
  },
  {
   "cell_type": "code",
   "execution_count": 14,
   "metadata": {
    "collapsed": false
   },
   "outputs": [
    {
     "data": {
      "image/png": "[encoded data removed]",
      "text/plain": [
       "<IPython.core.display.Image object>"
      ]
     },
     "metadata": {},
     "output_type": "display_data"
    }
   ],
   "source": [
    "c.Draw();"
   ]
  }
 ],
 "metadata": {
  "kernelspec": {
   "display_name": "ROOT C++",
   "language": "c++",
   "name": "root"
  },
  "language_info": {
   "codemirror_mode": "text/x-c++src",
   "file_extension": ".C",
   "mimetype": " text/x-c++src",
   "name": "c++"
  }
 },
 "nbformat": 4,
 "nbformat_minor": 0
}
