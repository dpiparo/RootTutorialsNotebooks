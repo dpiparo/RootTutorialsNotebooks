{
 "cells": [
  {
   "cell_type": "markdown",
   "metadata": {},
   "source": [
    "# Double32\n",
    "\n",
    "Notebook that illustrates the use and precision of the `Double32_t` data type.\n",
    "\n",
    "This is intended to be executed with [ACLIC](https://root.cern.ch/drupal/content/compiling-your-code-also-known-aclic).\n",
    "\n",
    "The following cases are supported for streaming a `Double32_t` type depending on the range declaration in the comment field of the data member:\n",
    "1. `Double32_t fNormal;`\n",
    "2. `Double32_t fTemperature;` *// [0,100]*\n",
    "3. `Double32_t fCharge;`      *// [-1,1,2]*\n",
    "4. `Double32_t fVertex[3];`   *// [-30,30,10]*\n",
    "5. `Double32_t fChi2;`        *// [0,0,6]*\n",
    "6. `Int_t fNsp;  Double32_t* fPointValue;`      *// [fNsp][0,3]*\n",
    "\n",
    "In the previous cases:\n",
    "1. `fNormal` is converted from a `Double_t` to a `Float_t`.\n",
    "2. `fTemperature` is converted to a 32 bit unsigned integer.\n",
    "3. `fCharge` is converted to a 2 bits unsigned integer.\n",
    "4. The array elements of `fVertex` are converted to an unsigned 10 bits integer.\n",
    "5. `fChi2` is converted to a `Float_t` with truncated precision at 6 bits.\n",
    "6. The `fNsp` elements of array `fPointvalue` are converted to an unsigned 32 bit integer.\n",
    "\n",
    "Note that the range specifier must follow the dimension specifier. Case 2 has more precision (9 to 10 significative digits than case 1 (6 to 7 digits).\n",
    "\n",
    "The range specifier has the general format: $[xmin,xmax]$ or $[xmin,xmax,nbits]$. Examples:\n",
    "- $[0,1]$\n",
    "- $[-10,100]$\n",
    "- $[-pi,pi], [-pi/2,pi/4],[-2pi,2*pi]$\n",
    "- $[-10,100,16]$\n",
    "- $[0,0,8]$\n",
    "\n",
    "If `nbits` is not specified, or if `nbits` <2 or `nbits`>32, `nbits` is set to 32. if (`xmin`==0 and `xmax`==0 and `nbits` <=14) the double word will be converted to a float and its mantissa truncated to nbits significative bits.\n",
    "\n",
    "### IMPORTANT NOTE\n",
    "Lets assume an original variable double `x`. When using the format $[0,0,8]$ (i.e. range not specified) you get the best relative precision when storing and reading back the truncated `x`, say `xt`. The variance of $(x-xt)/x$ will be better than when specifying a range for the same number of bits. However the precision relative to the range $(x-xt)/(xmax-xmin)$ will be worse, and vice-versa. The format $[0,0,8]$ is also interesting when the range of `x` is infinite or unknown.\n",
    "\n",
    "---"
   ]
  },
  {
   "cell_type": "code",
   "execution_count": 1,
   "metadata": {
    "collapsed": false
   },
   "outputs": [
    {
     "data": {
      "application/javascript": [
       "require(['codemirror/mode/clike/clike'], function(Clike) { console.log('ROOTaaS - C++ CodeMirror module loaded'); });"
      ]
     },
     "metadata": {},
     "output_type": "display_data"
    },
    {
     "data": {
      "application/javascript": [
       "IPython.CodeCell.config_defaults.highlight_modes['magic_text/x-c++src'] = {'reg':[/^%%cpp/]};"
      ]
     },
     "metadata": {},
     "output_type": "display_data"
    },
    {
     "name": "stdout",
     "output_type": "stream",
     "text": [
      "Welcome to ROOTaaS 6.05/01\n"
     ]
    }
   ],
   "source": [
    "import ROOT\n",
    "Math = ROOT.TMath"
   ]
  },
  {
   "cell_type": "markdown",
   "metadata": {},
   "source": [
    "Declare a helper class and invoke ACLiC. This allows to transparently build dictionaries for it: they are necessary since several instances of DemoDouble32 will be written on disk."
   ]
  },
  {
   "cell_type": "code",
   "execution_count": 2,
   "metadata": {
    "collapsed": false
   },
   "outputs": [
    {
     "name": "stderr",
     "output_type": "stream",
     "text": [
      "Info in <TUnixSystem::ACLiC>: creating shared library /home/rw15u099/cernbox/new/tutorials/io/fa923c22_C.so\n"
     ]
    }
   ],
   "source": [
    "%%cpp -a\n",
    "class DemoDouble32  {\n",
    "private:\n",
    "    Double_t    fD64;     //reference member with full double precision\n",
    "    Double32_t  fF32;     //saved as a 32 bit Float_t\n",
    "    Double32_t  fI32;     //[-pi,pi]    saved as a 32 bit unsigned int\n",
    "    Double32_t  fI30;     //[-pi,pi,30] saved as a 30 bit unsigned int\n",
    "    Double32_t  fI28;     //[-pi,pi,28] saved as a 28 bit unsigned int\n",
    "    Double32_t  fI26;     //[-pi,pi,26] saved as a 26 bit unsigned int\n",
    "    Double32_t  fI24;     //[-pi,pi,24] saved as a 24 bit unsigned int\n",
    "    Double32_t  fI22;     //[-pi,pi,22] saved as a 22 bit unsigned int\n",
    "    Double32_t  fI20;     //[-pi,pi,20] saved as a 20 bit unsigned int\n",
    "    Double32_t  fI18;     //[-pi,pi,18] saved as a 18 bit unsigned int\n",
    "    Double32_t  fI16;     //[-pi,pi,16] saved as a 16 bit unsigned int\n",
    "    Double32_t  fI14;     //[-pi,pi,14] saved as a 14 bit unsigned int\n",
    "    Double32_t  fI12;     //[-pi,pi,12] saved as a 12 bit unsigned int\n",
    "    Double32_t  fI10;     //[-pi,pi,10] saved as a 10 bit unsigned int\n",
    "    Double32_t  fI8;      //[-pi,pi, 8] saved as a  8 bit unsigned int\n",
    "    Double32_t  fI6;      //[-pi,pi, 6] saved as a  6 bit unsigned int\n",
    "    Double32_t  fI4;      //[-pi,pi, 4] saved as a  4 bit unsigned int\n",
    "    Double32_t  fI2;      //[-pi,pi, 2] saved as a  2 bit unsigned int\n",
    "    Double32_t  fR14;     //[0,  0, 14] saved as a 32 bit float with a 14 bits mantissa\n",
    "    Double32_t  fR12;     //[0,  0, 12] saved as a 32 bit float with a 12 bits mantissa\n",
    "    Double32_t  fR10;     //[0,  0, 10] saved as a 32 bit float with a 10 bits mantissa\n",
    "    Double32_t  fR8;      //[0,  0,  8] saved as a 32 bit float with a  8 bits mantissa\n",
    "    Double32_t  fR6;      //[0,  0,  6] saved as a 32 bit float with a  6 bits mantissa\n",
    "    Double32_t  fR4;      //[0,  0,  4] saved as a 32 bit float with a  4 bits mantissa\n",
    "    Double32_t  fR2;      //[0,  0,  2] saved as a 32 bit float with a  2 bits mantissa\n",
    "\n",
    "public:\n",
    "    DemoDouble32() {;}\n",
    "    void Set(Double_t ref) {\n",
    "        fD64 = fF32 = fI32 = fI30 = fI28 = fI26 = fI24 = fI22 = fI20 = ref;\n",
    "        fI18 = fI16 = fI14 = fI12 = fI10 = fI8  = fI6  = fI4  = fI2  = ref;\n",
    "        fR14 = fR12 = fR10 = fR8  = fR6  = fR4  = fR2  = ref;\n",
    "    }\n",
    "};"
   ]
  },
  {
   "cell_type": "markdown",
   "metadata": {},
   "source": [
    "Create a helper object of the previously declared class."
   ]
  },
  {
   "cell_type": "code",
   "execution_count": 3,
   "metadata": {
    "collapsed": false
   },
   "outputs": [],
   "source": [
    "d = ROOT.DemoDouble32()"
   ]
  },
  {
   "cell_type": "markdown",
   "metadata": {},
   "source": [
    "Create a tree with 40000 objects of type `DemoDouble32`."
   ]
  },
  {
   "cell_type": "code",
   "execution_count": 4,
   "metadata": {
    "collapsed": false
   },
   "outputs": [],
   "source": [
    "ofile = ROOT.TFile.Open(\"DemoDouble32.root\",\"recreate\")\n",
    "T = ROOT.TTree(\"T\",\"DemoDouble32\")\n",
    "bd = T.Branch(\"d\",\"DemoDouble32\",d,4000)\n",
    "r = ROOT.TRandom3()\n",
    "xmax = Math.Pi()\n",
    "xmin = -xmax\n",
    "n = 40000\n",
    "for i in xrange(n):\n",
    "    d.Set(r.Uniform(xmin,xmax))\n",
    "    T.Fill()\n",
    "T.Write();"
   ]
  },
  {
   "cell_type": "markdown",
   "metadata": {},
   "source": [
    "Create the canvas, the frame histogram and the graphs."
   ]
  },
  {
   "cell_type": "code",
   "execution_count": 5,
   "metadata": {
    "collapsed": false
   },
   "outputs": [],
   "source": [
    "c1 = ROOT.TCanvas(\"c1\",\"c1\",800,600)\n",
    "c1.SetGrid()\n",
    "\n",
    "branches = bd.GetListOfBranches()\n",
    "nb = branches.GetEntries()\n",
    "\n",
    "h = ROOT.TH1F(\"h\",\"\",nb,0,nb)\n",
    "h.SetMaximum(16)\n",
    "h.SetStats(0)\n",
    "h.Draw()\n",
    "\n",
    "gcx = ROOT.TGraph(nb)\n",
    "gcx.SetNameTitle(\"gcx\",\"Compression factor\")\n",
    "gcx.SetMarkerStyle(ROOT.kFullCircle)\n",
    "gcx.SetMarkerColor(ROOT.kBlue)\n",
    "\n",
    "gdrange = ROOT.TGraph(nb)\n",
    "gdrange.SetNameTitle(\"gdrange\",\"Log of precision wrt range\")\n",
    "gdrange.SetMarkerStyle(ROOT.kFullCircle)\n",
    "gdrange.SetMarkerColor(ROOT.kRed)\n",
    "\n",
    "gdval = ROOT.TGraph(nb)\n",
    "gdval.SetNameTitle(\"gdval\",\"Log of precision wrt value\")\n",
    "gdval.SetMarkerStyle(ROOT.kFullCircle)\n",
    "gdval.SetMarkerColor(ROOT.kBlack)\n",
    "\n",
    "title = ROOT.TPaveLabel(.15,.92,.85,.97,\"Double32_t compression and precision\",\"brNDC\")\n",
    "title.SetFillColor(ROOT.kWhite)\n",
    "title.Draw()"
   ]
  },
  {
   "cell_type": "markdown",
   "metadata": {},
   "source": [
    "Loop on the tree branches to get the precision and compression factors."
   ]
  },
  {
   "cell_type": "code",
   "execution_count": 6,
   "metadata": {
    "collapsed": false
   },
   "outputs": [],
   "source": [
    "br = branches[0]\n",
    "zip64 = float(br.GetZipBytes())\n",
    "cx = 1.\n",
    "drange = 15.\n",
    "dval = 15.\n",
    "\n",
    "for i, br in enumerate(branches):\n",
    "    brName = br.GetName()\n",
    "    h.GetXaxis().SetBinLabel(i+1,brName)\n",
    "    cx = zip64/br.GetZipBytes()\n",
    "    gcx.SetPoint(i,i+0.5,cx)\n",
    "    if i > 0:\n",
    "        T.Draw(\"(fD64-%s)/(%g)\" %(brName,xmax-xmin),\"\",\"goff\")\n",
    "        rms = Math.RMS(n,T.GetV1())\n",
    "        drange = Math.Max(0.,-Math.Log10(rms))\n",
    "    gdrange.SetPoint(i,i+0.5,drange)\n",
    "    if i > 0:\n",
    "        T.Draw(\"(fD64-%s)/(fD64+0.01)\" %brName,\"\",\"goff\")\n",
    "        rms = Math.RMS(n,T.GetV1())\n",
    "        dval = Math.Max(0.,-Math.Log10(rms))\n",
    "    gdval.SetPoint(i,i+0.5,dval)"
   ]
  },
  {
   "cell_type": "markdown",
   "metadata": {
    "collapsed": true
   },
   "source": [
    "Draw the final canvas."
   ]
  },
  {
   "cell_type": "code",
   "execution_count": 7,
   "metadata": {
    "collapsed": false
   },
   "outputs": [
    {
     "data": {
      "image/png": "[encoded data removed]",
      "text/plain": [
       "<IPython.core.display.Image object>"
      ]
     },
     "metadata": {},
     "output_type": "display_data"
    }
   ],
   "source": [
    "gcx.Draw(\"lp\")\n",
    "gdrange.Draw(\"lp\")\n",
    "gdval.Draw(\"lp\")\n",
    "\n",
    "legend = ROOT.TLegend(0.2,0.7,0.7,0.85)\n",
    "legend.SetTextFont(72)\n",
    "legend.SetTextSize(0.04)\n",
    "for g in (gcx, gdrange, gdval):\n",
    "    legend.AddEntry(g,\"\",\"lp\")\n",
    "legend.Draw()\n",
    "\n",
    "rang = ROOT.TLatex(.8,.6,\"[-#pi,#pi]\"); rang.SetNDC()\n",
    "rang.Draw()\n",
    "\n",
    "c1.Draw()"
   ]
  }
 ],
 "metadata": {
  "kernelspec": {
   "display_name": "Python 2",
   "language": "python",
   "name": "python2"
  },
  "language_info": {
   "codemirror_mode": {
    "name": "ipython",
    "version": 2
   },
   "file_extension": ".py",
   "mimetype": "text/x-python",
   "name": "python",
   "nbconvert_exporter": "python",
   "pygments_lexer": "ipython2",
   "version": "2.7.6"
  }
 },
 "nbformat": 4,
 "nbformat_minor": 0
}
